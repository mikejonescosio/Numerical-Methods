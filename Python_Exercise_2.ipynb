{
  "nbformat": 4,
  "nbformat_minor": 0,
  "metadata": {
    "colab": {
      "name": "Python Exercise 2.ipynb",
      "provenance": []
    },
    "kernelspec": {
      "name": "python3",
      "display_name": "Python 3"
    },
    "language_info": {
      "name": "python"
    }
  },
  "cells": [
    {
      "cell_type": "markdown",
      "metadata": {
        "id": "I2pV0GImkESX"
      },
      "source": [
        ""
      ]
    },
    {
      "cell_type": "code",
      "metadata": {
        "colab": {
          "base_uri": "https://localhost:8080/"
        },
        "id": "-hZ-NCLhboo9",
        "outputId": "602e57d4-1e22-45c8-b364-7bd9e771bed3"
      },
      "source": [
        "import numpy as np\n",
        "\n",
        "#Matrix and Its Operations\n",
        "\n",
        "A = np.array(([-5 , 0], [4 , 1]))\n",
        "B = np.array(([6 , -3], [2 , 3]))\n",
        "\n",
        "Sum = np.add(A, B)\n",
        "Difference1 = np.subtract(A, B)\n",
        "Difference2 = np.subtract(B, A)\n",
        "\n",
        "print('The Sum of A and B is', \"\\n\", Sum)\n",
        "print('-----------')\n",
        "print('The Difference of A and B is', \"\\n\", Difference1)\n",
        "print('-----------')\n",
        "print('The Difference of B and A is', \"\\n\", Difference2)"
      ],
      "execution_count": 27,
      "outputs": [
        {
          "output_type": "stream",
          "name": "stdout",
          "text": [
            "The Sum of A and B is \n",
            " [[ 1 -3]\n",
            " [ 6  4]]\n",
            "-----------\n",
            "The Difference of A and B is \n",
            " [[-11   3]\n",
            " [  2  -2]]\n",
            "-----------\n",
            "The Difference of B and A is \n",
            " [[11 -3]\n",
            " [-2  2]]\n"
          ]
        }
      ]
    }
  ]
}
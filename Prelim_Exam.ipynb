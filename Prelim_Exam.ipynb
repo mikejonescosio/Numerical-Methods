{
  "nbformat": 4,
  "nbformat_minor": 0,
  "metadata": {
    "colab": {
      "name": "Prelim Exam.ipynb",
      "provenance": []
    },
    "kernelspec": {
      "name": "python3",
      "display_name": "Python 3"
    },
    "language_info": {
      "name": "python"
    }
  },
  "cells": [
    {
      "cell_type": "code",
      "metadata": {
        "id": "ESYpj-yAU-W9"
      },
      "source": [
        "Prelim Exam"
      ],
      "execution_count": null,
      "outputs": []
    },
    {
      "cell_type": "code",
      "metadata": {
        "id": "dORzFTf-VLgc"
      },
      "source": [
        "import numpy as np"
      ],
      "execution_count": 2,
      "outputs": []
    },
    {
      "cell_type": "code",
      "metadata": {
        "colab": {
          "base_uri": "https://localhost:8080/"
        },
        "id": "bETan3dCVM3J",
        "outputId": "30448678-3bb8-41b9-dae0-a0132f401cf5"
      },
      "source": [
        "A = np.array([[1,2,3],[ 2,3,3],[3,4,-2]])\n",
        "print(A)\n",
        "print(np.linalg.det(A))"
      ],
      "execution_count": 3,
      "outputs": [
        {
          "output_type": "stream",
          "name": "stdout",
          "text": [
            "[[ 1  2  3]\n",
            " [ 2  3  3]\n",
            " [ 3  4 -2]]\n",
            "5.000000000000001\n"
          ]
        }
      ]
    }
  ]
}
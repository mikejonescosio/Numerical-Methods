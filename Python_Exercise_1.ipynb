{
  "nbformat": 4,
  "nbformat_minor": 0,
  "metadata": {
    "colab": {
      "name": "Python_Exercise_1.ipynb",
      "provenance": [],
      "collapsed_sections": []
    },
    "kernelspec": {
      "name": "python3",
      "display_name": "Python 3"
    },
    "language_info": {
      "name": "python"
    }
  },
  "cells": [
    {
      "cell_type": "code",
      "metadata": {
        "id": "65ckFGzlPBuW",
        "colab": {
          "base_uri": "https://localhost:8080/"
        },
        "outputId": "21f59f85-26b8-400a-dad5-e2d48facdf25"
      },
      "source": [
        "firstname = input(\"Enter your first name: \")\n",
        "surname = input(\"Enter your surname: \")\n",
        "course = input(\"Enter the course: \")\n",
        "prelim = input(\"Enter prelim grade: \")\n",
        "midterm = input(\"Enter midterm grade: \")\n",
        "finals = input(\"Enter finals grade: \")\n",
        "\n",
        "semestral = ((int(prelim) * .30) + (int(midterm) * .30) + (int(finals) * .40));\n",
        "print(\"Hi Klasmeyt {} {} !, your computed semestral grade is: {:.2f} \".format(firstname, surname, semestral))"
      ],
      "execution_count": null,
      "outputs": [
        {
          "output_type": "stream",
          "text": [
            "Enter your first name: Michael\n",
            "Enter your surname: Escosio\n",
            "Enter the course: Numerical Methods\n",
            "Enter prelim grade: 85\n",
            "Enter midterm grade: 80\n",
            "Enter finals grade: 90\n",
            "Hi Klasmeyt Michael Escosio !, your computed semestral grade is: 85.50 \n"
          ],
          "name": "stdout"
        }
      ]
    }
  ]
}
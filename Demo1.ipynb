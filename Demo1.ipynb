{
  "nbformat": 4,
  "nbformat_minor": 0,
  "metadata": {
    "colab": {
      "name": "Demo1.ipynb",
      "provenance": [],
      "collapsed_sections": []
    },
    "kernelspec": {
      "name": "python3",
      "display_name": "Python 3"
    },
    "language_info": {
      "name": "python"
    }
  },
  "cells": [
    {
      "cell_type": "code",
      "metadata": {
        "colab": {
          "base_uri": "https://localhost:8080/"
        },
        "id": "bJixI-s9fQNJ",
        "outputId": "864e05bf-b9ac-496b-a797-caf07202d435"
      },
      "source": [
        "a = \"Michael \"\n",
        "b = \"Escosio\"\n",
        "print(a+b)"
      ],
      "execution_count": 1,
      "outputs": [
        {
          "output_type": "stream",
          "name": "stdout",
          "text": [
            "Michael Escosio\n"
          ]
        }
      ]
    },
    {
      "cell_type": "code",
      "metadata": {
        "colab": {
          "base_uri": "https://localhost:8080/"
        },
        "id": "KlB5Jt8PfXmr",
        "outputId": "f1c7b07e-5273-4d81-ebb5-3156d133d0ea"
      },
      "source": [
        "x = \"fun\"\n",
        "print('Python programming is ' + x)"
      ],
      "execution_count": 2,
      "outputs": [
        {
          "output_type": "stream",
          "name": "stdout",
          "text": [
            "Python programming is fun\n"
          ]
        }
      ]
    },
    {
      "cell_type": "code",
      "metadata": {
        "colab": {
          "base_uri": "https://localhost:8080/"
        },
        "id": "MsYPEX9NfZLC",
        "outputId": "78db6a3b-d9df-40d7-dd1a-9f49e6cf78c7"
      },
      "source": [
        "x = \"fun\"\n",
        "y = \"Python programming is \"\n",
        "z = y + x\n",
        "print(z)"
      ],
      "execution_count": 3,
      "outputs": [
        {
          "output_type": "stream",
          "name": "stdout",
          "text": [
            "Python programming is fun\n"
          ]
        }
      ]
    },
    {
      "cell_type": "code",
      "metadata": {
        "colab": {
          "base_uri": "https://localhost:8080/"
        },
        "id": "C-A0rS00fwjq",
        "outputId": "07cf396b-0e39-4e9b-e8b4-dc4fc3052ce7"
      },
      "source": [
        "x = 4\n",
        "y = 7\n",
        "sum = x + y\n",
        "sum"
      ],
      "execution_count": 6,
      "outputs": [
        {
          "output_type": "execute_result",
          "data": {
            "text/plain": [
              "11"
            ]
          },
          "metadata": {},
          "execution_count": 6
        }
      ]
    },
    {
      "cell_type": "code",
      "metadata": {
        "colab": {
          "base_uri": "https://localhost:8080/"
        },
        "id": "PDIcX_sbf-wC",
        "outputId": "1f067748-bb54-4906-ac9b-c5f3c707385d"
      },
      "source": [
        "x = 1\n",
        "y = 3\n",
        "compare = x < y\n",
        "compare"
      ],
      "execution_count": 5,
      "outputs": [
        {
          "output_type": "execute_result",
          "data": {
            "text/plain": [
              "True"
            ]
          },
          "metadata": {},
          "execution_count": 5
        }
      ]
    },
    {
      "cell_type": "code",
      "metadata": {
        "colab": {
          "base_uri": "https://localhost:8080/"
        },
        "id": "OjtbPt1jgA3j",
        "outputId": "0f7755ac-c45f-4336-cbaa-8db023d3d97a"
      },
      "source": [
        "a,b,c = 1, 2, 3\n",
        "c%=4\n",
        "c"
      ],
      "execution_count": 8,
      "outputs": [
        {
          "output_type": "execute_result",
          "data": {
            "text/plain": [
              "3"
            ]
          },
          "metadata": {},
          "execution_count": 8
        }
      ]
    }
  ]
}